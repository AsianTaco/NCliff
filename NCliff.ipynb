{
 "cells": [
  {
   "cell_type": "markdown",
   "metadata": {},
   "source": [
    "# Tabular Q-learning for NCliff"
   ]
  },
  {
   "cell_type": "markdown",
   "metadata": {},
   "source": [
    "Import required packages and code"
   ]
  },
  {
   "cell_type": "code",
   "execution_count": null,
   "metadata": {},
   "outputs": [],
   "source": [
    "from Gameboard import Gameboard\n",
    "from Agent import Agent\n",
    "\n",
    "import numpy as np\n",
    "import matplotlib.pyplot as plt"
   ]
  },
  {
   "cell_type": "markdown",
   "metadata": {},
   "source": [
    "Initialize Agent and training history"
   ]
  },
  {
   "cell_type": "code",
   "execution_count": null,
   "metadata": {},
   "outputs": [],
   "source": [
    "agent = Agent()\n",
    "game_record = []"
   ]
  },
  {
   "cell_type": "markdown",
   "metadata": {},
   "source": [
    "Train for 100 episodes, then print and plot game results"
   ]
  },
  {
   "cell_type": "code",
   "execution_count": null,
   "metadata": {},
   "outputs": [],
   "source": [
    "for i in range(100):\n",
    "    game = Gameboard()\n",
    "\n",
    "    while game.getGameStatus() == 0:\n",
    "        firstPosition = game.getPosition()\n",
    "        actionIndex = agent.execPolicy(game)\n",
    "        agent.execAction(game, actionIndex)\n",
    "        newPosition = game.getPosition()\n",
    "        reward = agent.getReward(game)\n",
    "        agent.updateTable(firstPosition, newPosition, actionIndex, reward)\n",
    "\n",
    "    game_record.append(game.getGameStatus())\n",
    "\n",
    "plt.plot(game_record)\n",
    "plt.ylabel('Game results')\n",
    "plt.title('Game record over {} games'.format(100))\n",
    "plt.show()"
   ]
  },
  {
   "cell_type": "markdown",
   "metadata": {},
   "source": [
    "Test our agent for one game with a greedy policy."
   ]
  },
  {
   "cell_type": "code",
   "execution_count": null,
   "metadata": {},
   "outputs": [],
   "source": [
    "game = Gameboard()\n",
    "game.showBoard()\n",
    "\n",
    "while game.getGameStatus() == 0:\n",
    "    actionIndex = agent.execPolicy(game, greedy=True)\n",
    "    agent.execAction(game, actionIndex)\n",
    "    game.showBoard()"
   ]
  },
  {
   "cell_type": "markdown",
   "metadata": {},
   "source": [
    "Print out q-value tables."
   ]
  },
  {
   "cell_type": "code",
   "execution_count": null,
   "metadata": {},
   "outputs": [],
   "source": [
    "print('Action values for moving up at this position:')\n",
    "print(np.matrix(np.around(agent.q_valueTable[:,:,0],2)))\n",
    "print('Action values for moving down at this position:')\n",
    "print(np.matrix(np.around(agent.q_valueTable[:,:,1],2)))\n",
    "print('Action values for moving left at this position:')\n",
    "print(np.matrix(np.around(agent.q_valueTable[:,:,2],2)))\n",
    "print('Action values for moving right at this position:')\n",
    "print(np.matrix(np.around(agent.q_valueTable[:,:,3],2)))"
   ]
  },
  {
   "cell_type": "code",
   "execution_count": null,
   "metadata": {},
   "outputs": [],
   "source": []
  }
 ],
 "metadata": {
  "kernelspec": {
   "display_name": "ncliff",
   "language": "python",
   "name": "ncliff"
  },
  "language_info": {
   "codemirror_mode": {
    "name": "ipython",
    "version": 3
   },
   "file_extension": ".py",
   "mimetype": "text/x-python",
   "name": "python",
   "nbconvert_exporter": "python",
   "pygments_lexer": "ipython3",
   "version": "3.6.8"
  }
 },
 "nbformat": 4,
 "nbformat_minor": 2
}
